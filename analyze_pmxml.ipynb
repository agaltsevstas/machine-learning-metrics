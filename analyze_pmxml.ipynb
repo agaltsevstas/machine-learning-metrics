{
 "cells": [
  {
   "cell_type": "markdown",
   "metadata": {},
   "source": [
    "# PatternMarker XML List Analyzer"
   ]
  },
  {
   "cell_type": "markdown",
   "metadata": {},
   "source": [
    "This notebook helps to know, what classes and how much objects of different classes are there in PMXML list file."
   ]
  },
  {
   "cell_type": "code",
   "execution_count": 1,
   "metadata": {},
   "outputs": [],
   "source": [
    "import numpy as np\n",
    "import pm_utils as pm\n",
    "import os"
   ]
  },
  {
   "cell_type": "markdown",
   "metadata": {},
   "source": [
    "PMXML file path:"
   ]
  },
  {
   "cell_type": "code",
   "execution_count": 2,
   "metadata": {},
   "outputs": [],
   "source": [
    "filepath = \"/home/maxim/work/test_images/180510_10_bob/180510_10.xml\"\n",
    "assert(os.path.exists(filepath))"
   ]
  },
  {
   "cell_type": "markdown",
   "metadata": {},
   "source": [
    "Reading file to map filename-objects[]:"
   ]
  },
  {
   "cell_type": "code",
   "execution_count": 3,
   "metadata": {},
   "outputs": [
    {
     "name": "stdout",
     "output_type": "stream",
     "text": [
      "Files count: 465\n",
      "0 [[623, 467, 77, 159, 'person'], [784, 501, 491, 312, 'car']]\n",
      "1 [[623, 467, 77, 159, 'person'], [539, 514, 738, 336, 'car']]\n",
      "2 [[220, 498, 930, 388, 'car'], [1153, 464, 123, 113, 'truck']]\n",
      "3 [[0, 493, 980, 414, 'car'], [1140, 464, 126, 113, 'truck']]\n",
      "4 [[0, 502, 786, 393, 'car'], [1126, 467, 131, 107, 'truck']]\n",
      "5 [[568, 463, 75, 162, 'person'], [1, 499, 540, 382, 'car'], [1116, 463, 130, 115, 'truck']]\n"
     ]
    }
   ],
   "source": [
    "files_objects = pm.readXml(filepath)\n",
    "print(\"Files count:\", len(files_objects))\n",
    "i = 0\n",
    "for f in files_objects.keys():\n",
    "    print(i, files_objects[f])\n",
    "    i += 1\n",
    "    if i > 5:\n",
    "        break\n",
    "    "
   ]
  },
  {
   "cell_type": "markdown",
   "metadata": {},
   "source": [
    "Classes analysis:"
   ]
  },
  {
   "cell_type": "code",
   "execution_count": 4,
   "metadata": {
    "scrolled": true
   },
   "outputs": [
    {
     "name": "stdout",
     "output_type": "stream",
     "text": [
      "Classes count:\t8\n",
      "----------\n",
      "1. bicycle 8\n",
      "2. bus 94\n",
      "3. car 1637\n",
      "4. motorcycle 6\n",
      "5. person 203\n",
      "6. sign 1783\n",
      "7. trafficlight 66\n",
      "8. truck 438\n"
     ]
    }
   ],
   "source": [
    "classes = dict()\n",
    "for file in files_objects.keys():\n",
    "    for obj in files_objects[file]:\n",
    "        cl = obj[4]\n",
    "        if not cl in classes.keys():\n",
    "            classes[cl] = 1\n",
    "        else:\n",
    "            classes[cl] += 1\n",
    "print(\"Classes count:\\t%i\"%len(classes))\n",
    "print(\"----------\")\n",
    "i = 1\n",
    "for cl in sorted(classes.keys()):\n",
    "    print(\"%i. %s %i\"%(i, cl, classes[cl]))\n",
    "    i += 1"
   ]
  },
  {
   "cell_type": "markdown",
   "metadata": {},
   "source": [
    "Saving names for yolo:"
   ]
  },
  {
   "cell_type": "code",
   "execution_count": 5,
   "metadata": {},
   "outputs": [],
   "source": [
    "dbname = 'objects'\n",
    "namesfile = os.path.join(os.path.dirname(filepath), dbname + \".names\")\n",
    "file = open(namesfile, 'w')\n",
    "lines = \"\"\n",
    "for cl in sorted(classes.keys()):\n",
    "    lines += cl + \"\\n\\r\"\n",
    "file.write(lines)\n",
    "file.close()"
   ]
  },
  {
   "cell_type": "code",
   "execution_count": null,
   "metadata": {},
   "outputs": [],
   "source": []
  }
 ],
 "metadata": {
  "kernelspec": {
   "display_name": "Python 3",
   "language": "python",
   "name": "python3"
  },
  "language_info": {
   "codemirror_mode": {
    "name": "ipython",
    "version": 3
   },
   "file_extension": ".py",
   "mimetype": "text/x-python",
   "name": "python",
   "nbconvert_exporter": "python",
   "pygments_lexer": "ipython3",
   "version": "3.7.3"
  }
 },
 "nbformat": 4,
 "nbformat_minor": 2
}
